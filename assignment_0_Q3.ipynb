{
 "cells": [
  {
   "cell_type": "code",
   "execution_count": 15,
   "id": "a4e0acf0-edd0-45c9-8978-4f6d9dfd5261",
   "metadata": {},
   "outputs": [
    {
     "name": "stdout",
     "output_type": "stream",
     "text": [
      "Cleaned data saved to cleaned_IITK_Courses_Report.csv\n"
     ]
    }
   ],
   "source": [
    "import pandas as pd\n",
    "import numpy as np\n",
    "from scipy.stats import gmean\n",
    "file_name = \"IITK_Courses_Report.csv\"\n",
    "df = pd.read_csv(file_name)\n",
    "#print(\"Null values in each column before cleaning:\")\n",
    "#print(df.isnull().sum())\n",
    "\n",
    "df_cleaned = df.dropna(subset=df.columns[:2]).copy()\n",
    "\n",
    "\n",
    "for col in df_cleaned.columns[2:]:  # Assuming the last two columns are numerical\n",
    "    if df_cleaned[col].isnull().any():\n",
    "        for index in df_cleaned[df_cleaned[col].isnull()].index:\n",
    "            above = df_cleaned.loc[index - 1, col] if index - 1 in df_cleaned.index else np.nan\n",
    "            below = df_cleaned.loc[index + 1, col] if index + 1 in df_cleaned.index else np.nan\n",
    "            if not np.isnan(above) and not np.isnan(below):\n",
    "                df_cleaned.loc[index, col] = gmean([above, below])\n",
    "            elif not np.isnan(above):  # If only above exists\n",
    "                df_cleaned.loc[index, col] = above\n",
    "            elif not np.isnan(below):  # If only below exists\n",
    "                df_cleaned.loc[index, col] = below\n",
    "\n",
    "output_file_name = \"cleaned_IITK_Courses_Report.csv\"\n",
    "df_cleaned.to_csv(output_file_name, index=False)\n",
    "\n",
    "print(f\"Cleaned data saved to {output_file_name}\")"
   ]
  },
  {
   "cell_type": "code",
   "execution_count": null,
   "id": "a2901770-5853-420a-a9d1-529a48111cec",
   "metadata": {},
   "outputs": [],
   "source": []
  }
 ],
 "metadata": {
  "kernelspec": {
   "display_name": "Python 3 (ipykernel)",
   "language": "python",
   "name": "python3"
  },
  "language_info": {
   "codemirror_mode": {
    "name": "ipython",
    "version": 3
   },
   "file_extension": ".py",
   "mimetype": "text/x-python",
   "name": "python",
   "nbconvert_exporter": "python",
   "pygments_lexer": "ipython3",
   "version": "3.12.3"
  }
 },
 "nbformat": 4,
 "nbformat_minor": 5
}
