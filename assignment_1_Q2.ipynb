{
 "cells": [
  {
   "cell_type": "code",
   "execution_count": 5,
   "id": "00959e49-bedb-4bb1-9faf-141e83cdadbd",
   "metadata": {},
   "outputs": [
    {
     "name": "stdout",
     "output_type": "stream",
     "text": [
      "Training data loaded successfully\n",
      "Epoch 0, Loss: 54437556811.8587\n",
      "Epoch 50, Loss: 12554518264.745586\n",
      "Epoch 100, Loss: 6784075935.815006\n",
      "Epoch 150, Loss: 5864329170.3052845\n",
      "Epoch 200, Loss: 5622770408.578464\n",
      "Epoch 250, Loss: 5492506212.418884\n",
      "Epoch 300, Loss: 5392934489.377067\n",
      "Epoch 350, Loss: 5310324846.687943\n",
      "Epoch 400, Loss: 5240659042.755667\n",
      "Epoch 450, Loss: 5181652850.570492\n"
     ]
    },
    {
     "data": {
      "image/png": "[encoded data removed]",
      "text/plain": [
       "<Figure size 640x480 with 1 Axes>"
      ]
     },
     "metadata": {},
     "output_type": "display_data"
    },
    {
     "name": "stdout",
     "output_type": "stream",
     "text": [
      "Final weights: [-43389.91586301 -48708.00634478  20378.87472581  -5319.22073177\n",
      "  22583.84261262 -32486.10912354  22642.14301013  79222.13459038]\n",
      "Final bias: 207292.40804339194\n",
      "Test data loaded successfully\n",
      "Test Loss: 5149291502.425005\n"
     ]
    }
   ],
   "source": [
    "import pandas as pd\n",
    "import numpy as np\n",
    "import matplotlib.pyplot as plt\n",
    "\n",
    "# Function to calculate Mean Squared Error Loss\n",
    "def loss(y_pred, y_true):\n",
    "    return np.mean((y_pred - y_true) ** 2)\n",
    "\n",
    "# Function to calculate the predictions for input X\n",
    "def y_prediction(a, x, b):\n",
    "    return np.dot(x, a) + b\n",
    "\n",
    "# Function to calculate gradients for weights (a) and bias (b)\n",
    "def gradient(a, x, b, y_true):\n",
    "    n = x.shape[0]  # Number of samples\n",
    "    y_pred = y_prediction(a, x, b)\n",
    "    # Compute gradients\n",
    "    da = (-2 / n) * np.dot(x.T, (y_true - y_pred))  # Gradient for weights\n",
    "    db = (-2 / n) * np.sum(y_true - y_pred)        # Gradient for bias\n",
    "    return da, db\n",
    "\n",
    "# Function to perform Gradient Descent and optimize weights\n",
    "def gradient_descent(x, y_true, learning_rate, epochs):\n",
    "    a = np.zeros(x.shape[1])  # Initialize weights\n",
    "    b = 0.0                   # Initialize bias\n",
    "    train_loss = []\n",
    "\n",
    "    # Iterate for the number of epochs\n",
    "    for epoch in range(epochs):\n",
    "        da, db = gradient(a, x, b, y_true)  # Compute gradients\n",
    "        a -= learning_rate * da\n",
    "        b -= learning_rate * db\n",
    "        # Calculate and store loss\n",
    "        y_pred = y_prediction(a, x, b)\n",
    "        current_loss = loss(y_pred, y_true)\n",
    "        train_loss.append(current_loss)\n",
    "        if epoch % 50 == 0:\n",
    "            print(f\"Epoch {epoch}, Loss: {current_loss}\")\n",
    "    \n",
    "    return a, b, train_loss\n",
    "\n",
    "# Load and preprocess the data\n",
    "def load_and_preprocess_data(filepath):\n",
    "    # Load the dataset\n",
    "    df = pd.read_csv(filepath)\n",
    "    # Separate features (X) and target (y)\n",
    "    X = df.drop(columns=['median_house_value'])  # All columns except the target\n",
    "    y = df['median_house_value']\n",
    "    # Normalize the features\n",
    "    X = (X - X.mean()) / X.std()\n",
    "    return X.values, y.values  # Return as numpy arrays\n",
    "\n",
    "# Main Execution\n",
    "if __name__ == \"__main__\":\n",
    "    # Hyperparameters\n",
    "    learning_rate = 0.01\n",
    "    epochs = 500\n",
    "\n",
    "    # Load training data\n",
    "    train_file = 'california_housing_train.csv'\n",
    "    X_train, y_train = load_and_preprocess_data(train_file)\n",
    "    print(\"Training data loaded successfully\")\n",
    "\n",
    "    # Train the Linear Regression model\n",
    "    weights, bias, train_loss = gradient_descent(X_train, y_train, learning_rate, epochs)\n",
    "\n",
    "    # Plot the training loss\n",
    "    plt.plot([i for i in range(epochs)], train_loss)\n",
    "    plt.title(\"Training Loss\")\n",
    "    plt.xlabel(\"Epochs\")\n",
    "    plt.ylabel(\"Loss\")\n",
    "    plt.show()\n",
    "\n",
    "    print(f\"Final weights: {weights}\")\n",
    "    print(f\"Final bias: {bias}\")\n",
    "\n",
    "    # Load test data\n",
    "    test_file = 'california_housing_test.csv'\n",
    "    X_test, y_test = load_and_preprocess_data(test_file)\n",
    "    print(\"Test data loaded successfully\")\n",
    "\n",
    "    # Evaluate on test data\n",
    "    y_test_pred = y_prediction(weights, X_test, bias)\n",
    "    test_loss = loss(y_test_pred, y_test)\n",
    "    print(f\"Test Loss: {test_loss}\")\n"
   ]
  },
  {
   "cell_type": "code",
   "execution_count": null,
   "id": "e921327b-3bd5-444a-bcb2-7b8158c7b6ec",
   "metadata": {},
   "outputs": [],
   "source": []
  }
 ],
 "metadata": {
  "kernelspec": {
   "display_name": "Python 3 (ipykernel)",
   "language": "python",
   "name": "python3"
  },
  "language_info": {
   "codemirror_mode": {
    "name": "ipython",
    "version": 3
   },
   "file_extension": ".py",
   "mimetype": "text/x-python",
   "name": "python",
   "nbconvert_exporter": "python",
   "pygments_lexer": "ipython3",
   "version": "3.12.3"
  }
 },
 "nbformat": 4,
 "nbformat_minor": 5
}
